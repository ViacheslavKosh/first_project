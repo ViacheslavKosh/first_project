{
 "cells": [
  {
   "cell_type": "code",
   "execution_count": null,
   "metadata": {},
   "outputs": [],
   "source": [
    "import pandas as pd\n",
    "import matplotlib.pyplot as plt\n",
    "\n",
    "date = pd.date_range(start='2021-09-01', freq='D', periods=8)\n",
    "\n",
    "temperature = pd.Series([23, 17, 17, 16, 15, 14, 17, 20], index=date)\n",
    "\n",
    "temperature.plot()\n",
    "plt.show()\n"
   ]
  },
  {
   "cell_type": "code",
   "execution_count": null,
   "metadata": {},
   "outputs": [],
   "source": [
    "import matplotlib.pyplot as plt\n",
    "import pandas as pd\n",
    "\n",
    "date = pd.date_range(start='2021-09-01', freq='D', periods=8)\n",
    "fig, axs = plt.subplots()\n",
    "axs.plot(date, [23, 17, 17, 16, 15, 14, 17, 20], label='day temperature')\n",
    "axs.plot(date, [19, 11, 16, 11, 10, 10, 11, 16], label='night temperature')\n",
    "plt.xlabel('Дата', fontsize='small', color='midnightblue')\n",
    "plt.ylabel('Температура', fontsize='small', color='midnightblue')\n",
    "plt.title('Температура в м. Полтава', fontsize=15)\n",
    "plt.text(date[0], 15, 'Осінь досить тепла', color=\"blue\")\n",
    "plt.legend()\n",
    "plt.show()\n"
   ]
  }
 ],
 "metadata": {
  "kernelspec": {
   "display_name": "Python 3",
   "language": "python",
   "name": "python3"
  },
  "language_info": {
   "codemirror_mode": {
    "name": "ipython",
    "version": 3
   },
   "file_extension": ".py",
   "mimetype": "text/x-python",
   "name": "python",
   "nbconvert_exporter": "python",
   "pygments_lexer": "ipython3",
   "version": "3.12.3"
  }
 },
 "nbformat": 4,
 "nbformat_minor": 2
}
