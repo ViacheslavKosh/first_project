{
 "cells": [
  {
   "cell_type": "code",
   "execution_count": 3,
   "metadata": {},
   "outputs": [
    {
     "name": "stdout",
     "output_type": "stream",
     "text": [
      "Collecting openpyxl\n",
      "  Using cached openpyxl-3.1.3-py2.py3-none-any.whl.metadata (2.5 kB)\n",
      "Collecting et-xmlfile (from openpyxl)\n",
      "  Using cached et_xmlfile-1.1.0-py3-none-any.whl.metadata (1.8 kB)\n",
      "Using cached openpyxl-3.1.3-py2.py3-none-any.whl (251 kB)\n",
      "Using cached et_xmlfile-1.1.0-py3-none-any.whl (4.7 kB)\n",
      "Installing collected packages: et-xmlfile, openpyxl\n",
      "Successfully installed et-xmlfile-1.1.0 openpyxl-3.1.3\n"
     ]
    }
   ],
   "source": [
    "!pip install openpyxl\n",
    "import pandas as pd\n",
    "\n",
    "contacts = pd.DataFrame(\n",
    "    {\n",
    "        \"name\": [\n",
    "            \"Allen Raymond\",\n",
    "            \"Chaim Lewis\",\n",
    "            \"Kennedy Lane\",\n",
    "            \"Wylie Pope\",\n",
    "            \"Cyrus Jackson\",\n",
    "        ],\n",
    "        \"email\": [\n",
    "            \"nulla.ante@vestibul.co.uk\",\n",
    "            \"dui.in@egetlacus.ca\",\n",
    "            \"mattis.Cras@nonenimMauris.net\",\n",
    "            \"est@utquamvel.net\",\n",
    "            \"nibh@semsempererat.com\",\n",
    "        ],\n",
    "        \"phone\": [\n",
    "            \"(992) 914-3792\",\n",
    "            \"(294) 840-6685\",\n",
    "            \"(542) 451-7038\",\n",
    "            \"(692) 802-2949\",\n",
    "            \"(501) 472-5218\",\n",
    "        ],\n",
    "        \"favorite\": [False, False, True, False, True],\n",
    "    },\n",
    "    index=[1, 2, 3, 4, 5],\n",
    ")\n",
    "\n",
    "contacts.to_excel('contacts.xlsx', sheet_name='Contacts')\n"
   ]
  }
 ],
 "metadata": {
  "kernelspec": {
   "display_name": "Python 3",
   "language": "python",
   "name": "python3"
  },
  "language_info": {
   "codemirror_mode": {
    "name": "ipython",
    "version": 3
   },
   "file_extension": ".py",
   "mimetype": "text/x-python",
   "name": "python",
   "nbconvert_exporter": "python",
   "pygments_lexer": "ipython3",
   "version": "3.12.3"
  }
 },
 "nbformat": 4,
 "nbformat_minor": 2
}
