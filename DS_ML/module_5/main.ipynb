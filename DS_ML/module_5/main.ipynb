{
 "cells": [
  {
   "cell_type": "code",
   "execution_count": null,
   "metadata": {},
   "outputs": [],
   "source": [
    "import pandas as pd\n",
    "\n",
    "mountain_height = pd.Series([2061, 2035.8, 2028.5, 2022.5, 2016.4])\n",
    "\n",
    "print(mountain_height)\n"
   ]
  },
  {
   "cell_type": "code",
   "execution_count": null,
   "metadata": {},
   "outputs": [],
   "source": [
    "import pandas as pd\n",
    "\n",
    "mountains_height = pd.Series(\n",
    "    data=[2061, 2035.8, 2028.5, 2022.5, 2016.4],\n",
    "    index=[\"Goverla\", \"Brebenskyl\", \"Pip_Ivan\", \"Petros\", \"Gutin_Tomnatik\"],\n",
    "    name=\"Height, m\",\n",
    "    dtype=float,\n",
    ")\n",
    "\n",
    "print(mountains_height)\n"
   ]
  },
  {
   "cell_type": "code",
   "execution_count": null,
   "metadata": {},
   "outputs": [],
   "source": [
    "print(mountains_height[0])  # 2061.0\n",
    "print(mountains_height[\"Goverla\"])  # 2061.0\n"
   ]
  },
  {
   "cell_type": "code",
   "execution_count": null,
   "metadata": {},
   "outputs": [],
   "source": [
    "print(mountains_height[1:3])\n",
    "print(mountains_height[\"Brebenskyl\":\"Petros\"])"
   ]
  },
  {
   "cell_type": "code",
   "execution_count": null,
   "metadata": {},
   "outputs": [],
   "source": [
    "print(mountains_height.Petros)  # 2022.5\n",
    "print(mountains_height.Brebenskyl)  # 2035.8\n"
   ]
  },
  {
   "cell_type": "code",
   "execution_count": null,
   "metadata": {},
   "outputs": [],
   "source": [
    "print(mountains_height > 2030)\n",
    "print(mountains_height[mountains_height > 2030])\n"
   ]
  },
  {
   "cell_type": "code",
   "execution_count": 7,
   "metadata": {},
   "outputs": [
    {
     "name": "stdout",
     "output_type": "stream",
     "text": [
      "True\n"
     ]
    }
   ],
   "source": [
    "print(\"Goverla\" in mountains_height)  # True\n"
   ]
  },
  {
   "cell_type": "code",
   "execution_count": null,
   "metadata": {},
   "outputs": [],
   "source": [
    "sort_index = mountains_height.sort_index()\n",
    "print(sort_index)\n"
   ]
  },
  {
   "cell_type": "code",
   "execution_count": null,
   "metadata": {},
   "outputs": [],
   "source": [
    "mountains_height.sort_values(inplace=True, ascending=False)\n",
    "print(mountains_height)\n"
   ]
  },
  {
   "cell_type": "code",
   "execution_count": null,
   "metadata": {},
   "outputs": [],
   "source": [
    "import pandas as pd\n",
    "\n",
    "mountains_height = pd.Series(\n",
    "    {\"Goverla\": 2061, \"Brebenskyl\": 2035.8, \"Pip_Ivan\": 2028.5},\n",
    "    index=[\"Goverla\", \"Brebenskyl\", \"Pip_Ivan\", \"Petros\", \"Gutin_Tomnatik\"],\n",
    "    name=\"Height, m\",\n",
    "    dtype=float,\n",
    ")\n",
    "\n",
    "print(mountains_height)\n",
    "\n",
    "mountains_height.fillna(0, inplace=True)\n",
    "\n",
    "print(mountains_height)\n"
   ]
  }
 ],
 "metadata": {
  "kernelspec": {
   "display_name": "Python 3",
   "language": "python",
   "name": "python3"
  },
  "language_info": {
   "codemirror_mode": {
    "name": "ipython",
    "version": 3
   },
   "file_extension": ".py",
   "mimetype": "text/x-python",
   "name": "python",
   "nbconvert_exporter": "python",
   "pygments_lexer": "ipython3",
   "version": "3.12.3"
  }
 },
 "nbformat": 4,
 "nbformat_minor": 2
}
