{
 "cells": [
  {
   "cell_type": "code",
   "execution_count": 1,
   "metadata": {},
   "outputs": [
    {
     "name": "stdout",
     "output_type": "stream",
     "text": [
      "      name    country  age\n",
      "1  Michael     Canada   25\n",
      "3     Liza  Australia   19\n"
     ]
    }
   ],
   "source": [
    "import pandas as pd\n",
    "\n",
    "data = {\n",
    "    \"name\": {\"1\": \"Michael\", \"2\": \"John\", \"3\": \"Liza\"},\n",
    "    \"country\": {\"1\": \"Canada\", \"2\": \"USA\", \"3\": \"Australia\"},\n",
    "    \"age\": {\"1\": 25, \"2\": 32, \"3\": 19}\n",
    "}\n",
    "\n",
    "employees = pd.DataFrame(data)\n",
    "\n",
    "employees = employees.drop([\"2\"])\n",
    "print(employees)\n"
   ]
  },
  {
   "cell_type": "code",
   "execution_count": 2,
   "metadata": {},
   "outputs": [
    {
     "name": "stdout",
     "output_type": "stream",
     "text": [
      "      name    country\n",
      "1  Michael     Canada\n",
      "2     John        USA\n",
      "3     Liza  Australia\n"
     ]
    }
   ],
   "source": [
    "import pandas as pd\n",
    "\n",
    "data = {\n",
    "    \"name\": {\"1\": \"Michael\", \"2\": \"John\", \"3\": \"Liza\"},\n",
    "    \"country\": {\"1\": \"Canada\", \"2\": \"USA\", \"3\": \"Australia\"},\n",
    "    \"age\": {\"1\": 25, \"2\": 32, \"3\": 19}\n",
    "}\n",
    "\n",
    "employees = pd.DataFrame(data)\n",
    "\n",
    "employees = employees.drop([\"age\"], axis=1)\n",
    "print(employees)\n"
   ]
  },
  {
   "cell_type": "code",
   "execution_count": 1,
   "metadata": {},
   "outputs": [
    {
     "name": "stdout",
     "output_type": "stream",
     "text": [
      "   0    1    2\n",
      "0  1  2.0  3.0\n",
      "1  4  NaN  6.0\n",
      "2  7  NaN  NaN\n"
     ]
    }
   ],
   "source": [
    "import numpy as np\n",
    "import pandas as pd\n",
    "\n",
    "data = pd.DataFrame([[1, 2, 3], [4, np.nan, 6], [7, np.nan, np.nan]])\n",
    "\n",
    "print(data)\n"
   ]
  },
  {
   "cell_type": "code",
   "execution_count": 2,
   "metadata": {},
   "outputs": [
    {
     "name": "stdout",
     "output_type": "stream",
     "text": [
      "   0    1    2\n",
      "0  1  2.0  3.0\n"
     ]
    }
   ],
   "source": [
    "data = data.dropna()\n",
    "\n",
    "print(data)\n"
   ]
  },
  {
   "cell_type": "code",
   "execution_count": 3,
   "metadata": {},
   "outputs": [
    {
     "name": "stdout",
     "output_type": "stream",
     "text": [
      "   0    1    2\n",
      "0  1  2.0  3.0\n",
      "1  4  2.0  6.0\n",
      "2  7  2.0  4.5\n"
     ]
    }
   ],
   "source": [
    "import numpy as np\n",
    "import pandas as pd\n",
    "\n",
    "data = pd.DataFrame([[1, 2, 3], [4, np.nan, 6], [7, np.nan, np.nan]])\n",
    "\n",
    "data = data.fillna({0: data[0].mean(), 1: data[1].mean(), 2: data[2].mean()})\n",
    "\n",
    "print(data)\n"
   ]
  }
 ],
 "metadata": {
  "kernelspec": {
   "display_name": "Python 3",
   "language": "python",
   "name": "python3"
  },
  "language_info": {
   "codemirror_mode": {
    "name": "ipython",
    "version": 3
   },
   "file_extension": ".py",
   "mimetype": "text/x-python",
   "name": "python",
   "nbconvert_exporter": "python",
   "pygments_lexer": "ipython3",
   "version": "3.12.3"
  }
 },
 "nbformat": 4,
 "nbformat_minor": 2
}
