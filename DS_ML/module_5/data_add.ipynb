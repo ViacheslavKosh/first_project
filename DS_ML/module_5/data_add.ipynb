{
 "cells": [
  {
   "cell_type": "code",
   "execution_count": 1,
   "metadata": {},
   "outputs": [
    {
     "name": "stdout",
     "output_type": "stream",
     "text": [
      "      name    country  age\n",
      "1  Michael     Canada   25\n",
      "2     John        USA   32\n",
      "3     Liza  Australia   19\n"
     ]
    }
   ],
   "source": [
    "import pandas as pd\n",
    "\n",
    "data = {\n",
    "    \"name\": {\"1\": \"Michael\", \"2\": \"John\", \"3\": \"Liza\"},\n",
    "    \"country\": {\"1\": \"Canada\", \"2\": \"USA\", \"3\": \"Australia\"}\n",
    "}\n",
    "\n",
    "employees = pd.DataFrame(data)\n",
    "employees[\"age\"] = [25, 32, 19]\n",
    "print(employees)\n"
   ]
  },
  {
   "cell_type": "code",
   "execution_count": 5,
   "metadata": {},
   "outputs": [
    {
     "name": "stdout",
     "output_type": "stream",
     "text": [
      "      name    country age\n",
      "0  Michael     Canada  25\n",
      "1     John        USA  32\n",
      "2     Liza  Australia  19\n",
      "3     Jhon    Denmark  23\n"
     ]
    }
   ],
   "source": [
    "import pandas as pd\n",
    "\n",
    "data = {\n",
    "    \"name\": {\"1\": \"Michael\", \"2\": \"John\", \"3\": \"Liza\"},\n",
    "    \"country\": {\"1\": \"Canada\", \"2\": \"USA\", \"3\": \"Australia\"},\n",
    "    \"age\": {\"1\": 25, \"2\": 32, \"3\": 19}\n",
    "}\n",
    "\n",
    "employees = pd.DataFrame(data)\n",
    "\n",
    "new_employee = pd.Series([\"Jhon\", \"Denmark\", 23], [\"name\", \"country\", \"age\"])\n",
    "\n",
    "employees = pd.concat([employees, new_employee.to_frame().T], ignore_index=True)\n",
    "print(employees)\n"
   ]
  },
  {
   "cell_type": "code",
   "execution_count": 6,
   "metadata": {},
   "outputs": [
    {
     "name": "stdout",
     "output_type": "stream",
     "text": [
      "      name    country  age\n",
      "1  Michael     Canada   25\n",
      "2     John        USA   32\n",
      "3     Liza  Australia   19\n",
      "4     Jhon    Denmark   23\n"
     ]
    }
   ],
   "source": [
    "import pandas as pd\n",
    "\n",
    "data1 = {\n",
    "    \"name\": {\"1\": \"Michael\", \"2\": \"John\"},\n",
    "    \"country\": {\"1\": \"Canada\", \"2\": \"USA\"},\n",
    "    \"age\": {\"1\": 25, \"2\": 32}\n",
    "}\n",
    "\n",
    "employees1 = pd.DataFrame(data1)\n",
    "\n",
    "data2 = {\n",
    "    \"name\": {\"3\": \"Liza\", \"4\": \"Jhon\"},\n",
    "    \"country\": {\"3\": \"Australia\", \"4\": \"Denmark\"},\n",
    "    \"age\": {\"3\": 19, \"4\": 23}\n",
    "}\n",
    "\n",
    "employees2 = pd.DataFrame(data2)\n",
    "\n",
    "employees = pd.concat([employees1, employees2])\n",
    "\n",
    "print(employees)\n"
   ]
  }
 ],
 "metadata": {
  "kernelspec": {
   "display_name": "Python 3",
   "language": "python",
   "name": "python3"
  },
  "language_info": {
   "codemirror_mode": {
    "name": "ipython",
    "version": 3
   },
   "file_extension": ".py",
   "mimetype": "text/x-python",
   "name": "python",
   "nbconvert_exporter": "python",
   "pygments_lexer": "ipython3",
   "version": "3.12.3"
  }
 },
 "nbformat": 4,
 "nbformat_minor": 2
}
