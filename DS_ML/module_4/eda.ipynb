{
 "cells": [
  {
   "cell_type": "code",
   "execution_count": null,
   "metadata": {},
   "outputs": [],
   "source": [
    "\n",
    "import pandas as pd\n",
    "import numpy as np\n",
    "import seaborn as sns\n",
    "import matplotlib.pyplot as plt\n",
    "\n",
    "# Завантаження датасету\n",
    "\n",
    "df = sns.load_dataset('iris')\n",
    "\n",
    "# Перегляд перших рядків даних\n",
    "\n",
    "print(df.head())\n",
    "\n",
    "# Основні статистичні характеристики\n",
    "\n",
    "print(df.describe())\n",
    "\n",
    "# Перевірка на пропущені значення\n",
    "\n",
    "print(df.isnull().sum())\n",
    "\n",
    "# Візуалізація розподілу змінної\n",
    "\n",
    "sns.histplot(df['sepal_length'], kde=True)\n",
    "plt.show()\n",
    "\n",
    "# Візуалізація взаємозв'язку між змінними\n",
    "\n",
    "sns.pairplot(df, hue='species')\n",
    "plt.show()\n"
   ]
  },
  {
   "cell_type": "code",
   "execution_count": null,
   "metadata": {},
   "outputs": [],
   "source": [
    "!pip install pandas-profiling\n"
   ]
  },
  {
   "cell_type": "code",
   "execution_count": null,
   "metadata": {},
   "outputs": [],
   "source": [
    "from pandas_profiling import ProfileReport\n",
    "profile = ProfileReport(df, title=\"Report\")\n",
    "profile\n"
   ]
  }
 ],
 "metadata": {
  "kernelspec": {
   "display_name": "Python 3",
   "language": "python",
   "name": "python3"
  },
  "language_info": {
   "codemirror_mode": {
    "name": "ipython",
    "version": 3
   },
   "file_extension": ".py",
   "mimetype": "text/x-python",
   "name": "python",
   "nbconvert_exporter": "python",
   "pygments_lexer": "ipython3",
   "version": "3.12.3"
  }
 },
 "nbformat": 4,
 "nbformat_minor": 2
}
