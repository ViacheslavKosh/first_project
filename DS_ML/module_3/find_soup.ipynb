{
 "cells": [
  {
   "cell_type": "code",
   "execution_count": 6,
   "metadata": {},
   "outputs": [],
   "source": [
    "import requests\n",
    "from bs4 import BeautifulSoup"
   ]
  },
  {
   "cell_type": "code",
   "execution_count": 7,
   "metadata": {},
   "outputs": [],
   "source": [
    "url = \"http://quotes.toscrape.com/\"\n",
    "page = requests.get(url)\n"
   ]
  },
  {
   "cell_type": "code",
   "execution_count": 8,
   "metadata": {},
   "outputs": [],
   "source": [
    "soup = BeautifulSoup(page.text, \"html.parser\")"
   ]
  },
  {
   "cell_type": "code",
   "execution_count": 9,
   "metadata": {},
   "outputs": [
    {
     "name": "stdout",
     "output_type": "stream",
     "text": [
      "<p>\n",
      "<a href=\"/login\">Login</a>\n",
      "</p>\n"
     ]
    }
   ],
   "source": [
    "# знайти перший тег <p> на сторінці\n",
    "first_paragraph = soup.find(\"p\")\n",
    "print(first_paragraph)"
   ]
  },
  {
   "cell_type": "code",
   "execution_count": 10,
   "metadata": {},
   "outputs": [
    {
     "name": "stdout",
     "output_type": "stream",
     "text": [
      "[<p>\n",
      "<a href=\"/login\">Login</a>\n",
      "</p>, <p class=\"text-muted\">\n",
      "                Quotes by: <a href=\"https://www.goodreads.com/quotes\">GoodReads.com</a>\n",
      "</p>, <p class=\"copyright\">\n",
      "                Made with <span class=\"zyte\">❤</span> by <a class=\"zyte\" href=\"https://www.zyte.com\">Zyte</a>\n",
      "</p>]\n"
     ]
    }
   ],
   "source": [
    "# знайти всі теги <p> на сторінці\n",
    "all_paragraphs = soup.find_all(\"p\")\n",
    "print(all_paragraphs)"
   ]
  },
  {
   "cell_type": "code",
   "execution_count": 11,
   "metadata": {},
   "outputs": [
    {
     "name": "stdout",
     "output_type": "stream",
     "text": [
      "Login\n"
     ]
    }
   ],
   "source": [
    "# отримати текст першого тега <p> на сторінці\n",
    "first_paragraph_text = first_paragraph.get_text()\n",
    "print(first_paragraph_text.strip())# 'Login'"
   ]
  },
  {
   "cell_type": "code",
   "execution_count": 12,
   "metadata": {},
   "outputs": [
    {
     "name": "stdout",
     "output_type": "stream",
     "text": [
      "/\n"
     ]
    }
   ],
   "source": [
    "# отримати значення атрибута \"href\" першого тегу <a> на сторінці\n",
    "first_link = soup.find(\"a\")\n",
    "first_link_href = first_link[\"href\"]\n",
    "print(first_link_href)# '/'"
   ]
  },
  {
   "cell_type": "code",
   "execution_count": 13,
   "metadata": {},
   "outputs": [
    {
     "name": "stdout",
     "output_type": "stream",
     "text": [
      "['\\n', <a href=\"/login\">Login</a>, '\\n']\n"
     ]
    }
   ],
   "source": [
    "body_children = list(first_paragraph.children)\n",
    "print(body_children)"
   ]
  },
  {
   "cell_type": "code",
   "execution_count": 14,
   "metadata": {},
   "outputs": [
    {
     "name": "stdout",
     "output_type": "stream",
     "text": [
      "<a href=\"/\" style=\"text-decoration: none\">Quotes to Scrape</a>\n"
     ]
    }
   ],
   "source": [
    "# знайти перший тег <a> всередині першого тегу <div> на сторінці\n",
    "first_div = soup.find(\"div\")\n",
    "first_div_link = first_div.find(\"a\")\n",
    "print(first_div_link)"
   ]
  },
  {
   "cell_type": "code",
   "execution_count": 15,
   "metadata": {},
   "outputs": [
    {
     "name": "stdout",
     "output_type": "stream",
     "text": [
      "<div class=\"col-md-4\">\n",
      "<p>\n",
      "<a href=\"/login\">Login</a>\n",
      "</p>\n",
      "</div>\n"
     ]
    }
   ],
   "source": [
    "# Щоб отримати батьківський елемент першого тегу <p> на сторінці, ми можемо використовувати властивість parent\n",
    "first_paragraph_parent = first_paragraph.parent\n",
    "print(first_paragraph_parent)"
   ]
  },
  {
   "cell_type": "code",
   "execution_count": null,
   "metadata": {},
   "outputs": [],
   "source": [
    "#Також можна використовувати методи find_parent і find_parents для пошуку батьківських елементів\n",
    "container = soup.find(\"div\", attrs={\"class\": \"quote\"}).find_parent(\"div\", class_=\"col-md-8\")\n",
    "print(container)"
   ]
  },
  {
   "cell_type": "code",
   "execution_count": 17,
   "metadata": {},
   "outputs": [
    {
     "name": "stdout",
     "output_type": "stream",
     "text": [
      "<span class=\"tag-item\">\n",
      "<a class=\"tag\" href=\"/tag/inspirational/\" style=\"font-size: 26px\">inspirational</a>\n",
      "</span>\n"
     ]
    }
   ],
   "source": [
    "#Наприклад, щоб отримати наступний сусідній елемент першого тегу <span> з класом \"tag-item\" на сторінці\n",
    "next_sibling = soup.find(\"span\", attrs={\"class\": \"tag-item\"}).find_next_sibling(\"span\")\n",
    "print(next_sibling)"
   ]
  }
 ],
 "metadata": {
  "kernelspec": {
   "display_name": "Python 3",
   "language": "python",
   "name": "python3"
  },
  "language_info": {
   "codemirror_mode": {
    "name": "ipython",
    "version": 3
   },
   "file_extension": ".py",
   "mimetype": "text/x-python",
   "name": "python",
   "nbconvert_exporter": "python",
   "pygments_lexer": "ipython3",
   "version": "3.12.3"
  }
 },
 "nbformat": 4,
 "nbformat_minor": 2
}
