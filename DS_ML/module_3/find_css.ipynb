{
 "cells": [
  {
   "cell_type": "code",
   "execution_count": 1,
   "metadata": {},
   "outputs": [],
   "source": [
    "import requests\n",
    "from bs4 import BeautifulSoup"
   ]
  },
  {
   "cell_type": "code",
   "execution_count": 5,
   "metadata": {},
   "outputs": [],
   "source": [
    "url = \"http://quotes.toscrape.com/\"\n",
    "page = requests.get(url)"
   ]
  },
  {
   "cell_type": "code",
   "execution_count": 6,
   "metadata": {},
   "outputs": [],
   "source": [
    "soup = BeautifulSoup(page.text, \"html.parser\")"
   ]
  },
  {
   "cell_type": "code",
   "execution_count": null,
   "metadata": {},
   "outputs": [],
   "source": [
    "# Знайдемо всі теги <p> на сторінці\n",
    "p = soup.select(\"p\")\n",
    "print(p)"
   ]
  },
  {
   "cell_type": "code",
   "execution_count": 8,
   "metadata": {},
   "outputs": [
    {
     "name": "stdout",
     "output_type": "stream",
     "text": [
      "[<span class=\"text\" itemprop=\"text\">“The world as we have created it is a process of our thinking. It cannot be changed without changing our thinking.”</span>, <span class=\"text\" itemprop=\"text\">“It is our choices, Harry, that show what we truly are, far more than our abilities.”</span>, <span class=\"text\" itemprop=\"text\">“There are only two ways to live your life. One is as though nothing is a miracle. The other is as though everything is a miracle.”</span>, <span class=\"text\" itemprop=\"text\">“The person, be it gentleman or lady, who has not pleasure in a good novel, must be intolerably stupid.”</span>, <span class=\"text\" itemprop=\"text\">“Imperfection is beauty, madness is genius and it's better to be absolutely ridiculous than absolutely boring.”</span>, <span class=\"text\" itemprop=\"text\">“Try not to become a man of success. Rather become a man of value.”</span>, <span class=\"text\" itemprop=\"text\">“It is better to be hated for what you are than to be loved for what you are not.”</span>, <span class=\"text\" itemprop=\"text\">“I have not failed. I've just found 10,000 ways that won't work.”</span>, <span class=\"text\" itemprop=\"text\">“A woman is like a tea bag; you never know how strong it is until it's in hot water.”</span>, <span class=\"text\" itemprop=\"text\">“A day without sunshine is like, you know, night.”</span>]\n"
     ]
    }
   ],
   "source": [
    "# Знайдемо всі елементи з класом \"text\"\n",
    "text = soup.select(\".text\")\n",
    "print(text)"
   ]
  },
  {
   "cell_type": "code",
   "execution_count": 9,
   "metadata": {},
   "outputs": [
    {
     "name": "stdout",
     "output_type": "stream",
     "text": [
      "[]\n"
     ]
    }
   ],
   "source": [
    "# Знайдемо всі елементи з ідентифікатором \"header\". Ідентифікатор - це спеціальний атрибут тегу id.\n",
    "header = soup.select(\"#header\")\n",
    "print(header)"
   ]
  },
  {
   "cell_type": "code",
   "execution_count": 10,
   "metadata": {},
   "outputs": [
    {
     "name": "stdout",
     "output_type": "stream",
     "text": [
      "[<a href=\"/\" style=\"text-decoration: none\">Quotes to Scrape</a>, <a href=\"/login\">Login</a>, <a href=\"/author/Albert-Einstein\">(about)</a>, <a class=\"tag\" href=\"/tag/change/page/1/\">change</a>, <a class=\"tag\" href=\"/tag/deep-thoughts/page/1/\">deep-thoughts</a>, <a class=\"tag\" href=\"/tag/thinking/page/1/\">thinking</a>, <a class=\"tag\" href=\"/tag/world/page/1/\">world</a>, <a href=\"/author/J-K-Rowling\">(about)</a>, <a class=\"tag\" href=\"/tag/abilities/page/1/\">abilities</a>, <a class=\"tag\" href=\"/tag/choices/page/1/\">choices</a>, <a href=\"/author/Albert-Einstein\">(about)</a>, <a class=\"tag\" href=\"/tag/inspirational/page/1/\">inspirational</a>, <a class=\"tag\" href=\"/tag/life/page/1/\">life</a>, <a class=\"tag\" href=\"/tag/live/page/1/\">live</a>, <a class=\"tag\" href=\"/tag/miracle/page/1/\">miracle</a>, <a class=\"tag\" href=\"/tag/miracles/page/1/\">miracles</a>, <a href=\"/author/Jane-Austen\">(about)</a>, <a class=\"tag\" href=\"/tag/aliteracy/page/1/\">aliteracy</a>, <a class=\"tag\" href=\"/tag/books/page/1/\">books</a>, <a class=\"tag\" href=\"/tag/classic/page/1/\">classic</a>, <a class=\"tag\" href=\"/tag/humor/page/1/\">humor</a>, <a href=\"/author/Marilyn-Monroe\">(about)</a>, <a class=\"tag\" href=\"/tag/be-yourself/page/1/\">be-yourself</a>, <a class=\"tag\" href=\"/tag/inspirational/page/1/\">inspirational</a>, <a href=\"/author/Albert-Einstein\">(about)</a>, <a class=\"tag\" href=\"/tag/adulthood/page/1/\">adulthood</a>, <a class=\"tag\" href=\"/tag/success/page/1/\">success</a>, <a class=\"tag\" href=\"/tag/value/page/1/\">value</a>, <a href=\"/author/Andre-Gide\">(about)</a>, <a class=\"tag\" href=\"/tag/life/page/1/\">life</a>, <a class=\"tag\" href=\"/tag/love/page/1/\">love</a>, <a href=\"/author/Thomas-A-Edison\">(about)</a>, <a class=\"tag\" href=\"/tag/edison/page/1/\">edison</a>, <a class=\"tag\" href=\"/tag/failure/page/1/\">failure</a>, <a class=\"tag\" href=\"/tag/inspirational/page/1/\">inspirational</a>, <a class=\"tag\" href=\"/tag/paraphrased/page/1/\">paraphrased</a>, <a href=\"/author/Eleanor-Roosevelt\">(about)</a>, <a class=\"tag\" href=\"/tag/misattributed-eleanor-roosevelt/page/1/\">misattributed-eleanor-roosevelt</a>, <a href=\"/author/Steve-Martin\">(about)</a>, <a class=\"tag\" href=\"/tag/humor/page/1/\">humor</a>, <a class=\"tag\" href=\"/tag/obvious/page/1/\">obvious</a>, <a class=\"tag\" href=\"/tag/simile/page/1/\">simile</a>, <a href=\"/page/2/\">Next <span aria-hidden=\"true\">→</span></a>, <a class=\"tag\" href=\"/tag/love/\" style=\"font-size: 28px\">love</a>, <a class=\"tag\" href=\"/tag/inspirational/\" style=\"font-size: 26px\">inspirational</a>, <a class=\"tag\" href=\"/tag/life/\" style=\"font-size: 26px\">life</a>, <a class=\"tag\" href=\"/tag/humor/\" style=\"font-size: 24px\">humor</a>, <a class=\"tag\" href=\"/tag/books/\" style=\"font-size: 22px\">books</a>, <a class=\"tag\" href=\"/tag/reading/\" style=\"font-size: 14px\">reading</a>, <a class=\"tag\" href=\"/tag/friendship/\" style=\"font-size: 10px\">friendship</a>, <a class=\"tag\" href=\"/tag/friends/\" style=\"font-size: 8px\">friends</a>, <a class=\"tag\" href=\"/tag/truth/\" style=\"font-size: 8px\">truth</a>, <a class=\"tag\" href=\"/tag/simile/\" style=\"font-size: 6px\">simile</a>, <a href=\"https://www.goodreads.com/quotes\">GoodReads.com</a>, <a class=\"zyte\" href=\"https://www.zyte.com\">Zyte</a>]\n"
     ]
    }
   ],
   "source": [
    "# Наприклад, знайдемо всі елементи <a> всередині тегу <div> з класом \"container\":\n",
    "a = soup.select(\"div.container a\")\n",
    "print(a)"
   ]
  },
  {
   "cell_type": "code",
   "execution_count": 11,
   "metadata": {},
   "outputs": [
    {
     "name": "stdout",
     "output_type": "stream",
     "text": [
      "[<a href=\"https://www.goodreads.com/quotes\">GoodReads.com</a>, <a class=\"zyte\" href=\"https://www.zyte.com\">Zyte</a>]\n"
     ]
    }
   ],
   "source": [
    "# Знайдемо всі елементи, у яких атрибут href починається з \"https://\"\n",
    "href = soup.select(\"[href^='https://']\")\n",
    "print(href)"
   ]
  },
  {
   "cell_type": "code",
   "execution_count": null,
   "metadata": {},
   "outputs": [],
   "source": [
    "# Знайдемо всі елементи, у яких атрибут class містить слово \"text\":\n",
    "ctext = soup.select(\"[class*='text']\")\n",
    "print(ctext)\n",
    "\n"
   ]
  }
 ],
 "metadata": {
  "kernelspec": {
   "display_name": "Python 3",
   "language": "python",
   "name": "python3"
  },
  "language_info": {
   "codemirror_mode": {
    "name": "ipython",
    "version": 3
   },
   "file_extension": ".py",
   "mimetype": "text/x-python",
   "name": "python",
   "nbconvert_exporter": "python",
   "pygments_lexer": "ipython3",
   "version": "3.12.3"
  }
 },
 "nbformat": 4,
 "nbformat_minor": 2
}
